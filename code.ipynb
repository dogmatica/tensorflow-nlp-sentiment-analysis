{
 "cells": [
  {
   "cell_type": "markdown",
   "id": "09f5ff19-43f3-43a1-ad3f-29caf9cc137e",
   "metadata": {},
   "source": [
    "# Part I:  Research Question\n",
    "\n",
    "## A1. Research Question Summary\n",
    "\n",
    "My data set for this sentiment analysis exercise includes data from a subset of Amazon reviews.  Data analysis performed on the dataset will be aimed with this research question in mind: can a neural network be employed to classify the sentiment of a review based on natural language as its input?\n",
    "\n",
    "## A2. Objectives and Goals\n",
    "\n",
    "My objective, beyond reaching a conclusive answer to the above research question, will be to perform exploratory data analysis on the Amazon review data set, clean and prepare the data for consumption by a neural network, and evaluate the resulting accuracy and confidence metrics once my model is tested.\n",
    "\n",
    "## A3. Type of Neural Network\n",
    "\n",
    "Neural networks offer better performance than typical linear classification methods when dealing with natural language.  Convolutional neural networks in particular are effective at document classification due to their ability to analyze the sequence in which language is used rather than simply considering the presence of words.  This non-linear nature of the CNN often leads to superior classification accuracy (Goldberg, 2015)."
   ]
  },
  {
   "cell_type": "markdown",
   "id": "825944b4-d798-4a52-a210-d46a0f1932bf",
   "metadata": {},
   "source": [
    "---\n",
    "\n",
    "# Part II:  Data Preparation\n",
    "\n",
    "Before beginning the data cleaning and preparation process, I will need to import some Python packages, import the data, gather some general information on the data set, and eliminate columns containing data that is not relevant to this exercise.  In addition, rows that contain a null value in any remaining columns will be removed.  \n",
    "\n",
    "Once this is done, I concatenate the string data from the summary and reviewText columns, creating a new column named \"review\".  After this, the summary and reviewText columns are dropped.  Lastly, I will increase the max column width so that I can see more of each review when examining the data frame.\n",
    "\n",
    "The code for these operations is included below, along with their respective outputs.\n",
    "\n"
   ]
  },
  {
   "cell_type": "code",
   "execution_count": 1,
   "id": "8f9e4794-bc8a-4d00-881d-b4aacd49deaa",
   "metadata": {},
   "outputs": [
    {
     "name": "stderr",
     "output_type": "stream",
     "text": [
      "[nltk_data] Downloading package stopwords to\n",
      "[nltk_data]     C:\\Users\\wstul\\AppData\\Roaming\\nltk_data...\n",
      "[nltk_data]   Package stopwords is already up-to-date!\n",
      "[nltk_data] Downloading package wordnet to\n",
      "[nltk_data]     C:\\Users\\wstul\\AppData\\Roaming\\nltk_data...\n",
      "[nltk_data]   Package wordnet is already up-to-date!\n",
      "[nltk_data] Downloading package omw-1.4 to\n",
      "[nltk_data]     C:\\Users\\wstul\\AppData\\Roaming\\nltk_data...\n",
      "[nltk_data]   Package omw-1.4 is already up-to-date!\n",
      "[nltk_data] Downloading package punkt to\n",
      "[nltk_data]     C:\\Users\\wstul\\AppData\\Roaming\\nltk_data...\n",
      "[nltk_data]   Package punkt is already up-to-date!\n"
     ]
    },
    {
     "data": {
      "text/plain": [
       "True"
      ]
     },
     "execution_count": 1,
     "metadata": {},
     "output_type": "execute_result"
    }
   ],
   "source": [
    "# Imports and housekeeping\n",
    "import pandas as pd\n",
    "import numpy as np\n",
    "import matplotlib.pyplot as plt\n",
    "import string\n",
    "import nltk\n",
    "import tensorflow as tf\n",
    "import re\n",
    "import seaborn as sns\n",
    "from sklearn.model_selection import train_test_split\n",
    "from sklearn.metrics import confusion_matrix\n",
    "from tensorflow.keras.preprocessing.text import Tokenizer\n",
    "from tensorflow.keras.preprocessing.sequence import pad_sequences\n",
    "from tensorflow.keras.callbacks import EarlyStopping\n",
    "from tensorflow.keras.layers import Dense, Embedding, Flatten\n",
    "from tensorflow.keras.models import Sequential\n",
    "from itertools import islice\n",
    "nltk.download('stopwords')\n",
    "nltk.download('wordnet')\n",
    "nltk.download('omw-1.4')\n",
    "nltk.download('punkt')"
   ]
  },
  {
   "cell_type": "code",
   "execution_count": 2,
   "id": "3e51098d-37c0-484d-934b-f9ba0f91343a",
   "metadata": {},
   "outputs": [],
   "source": [
    "# Import the json file containing Amazon review data\n",
    "df = pd.read_json('Prime_Pantry.json', lines=True)"
   ]
  },
  {
   "cell_type": "code",
   "execution_count": 3,
   "id": "f69a2222-17f4-47ff-96fb-fd740b9e3a65",
   "metadata": {},
   "outputs": [
    {
     "data": {
      "text/html": [
       "<div>\n",
       "<style scoped>\n",
       "    .dataframe tbody tr th:only-of-type {\n",
       "        vertical-align: middle;\n",
       "    }\n",
       "\n",
       "    .dataframe tbody tr th {\n",
       "        vertical-align: top;\n",
       "    }\n",
       "\n",
       "    .dataframe thead th {\n",
       "        text-align: right;\n",
       "    }\n",
       "</style>\n",
       "<table border=\"1\" class=\"dataframe\">\n",
       "  <thead>\n",
       "    <tr style=\"text-align: right;\">\n",
       "      <th></th>\n",
       "      <th>overall</th>\n",
       "      <th>verified</th>\n",
       "      <th>reviewTime</th>\n",
       "      <th>reviewerID</th>\n",
       "      <th>asin</th>\n",
       "      <th>reviewerName</th>\n",
       "      <th>reviewText</th>\n",
       "      <th>summary</th>\n",
       "      <th>unixReviewTime</th>\n",
       "      <th>vote</th>\n",
       "      <th>image</th>\n",
       "      <th>style</th>\n",
       "    </tr>\n",
       "  </thead>\n",
       "  <tbody>\n",
       "    <tr>\n",
       "      <th>0</th>\n",
       "      <td>5</td>\n",
       "      <td>True</td>\n",
       "      <td>12 14, 2014</td>\n",
       "      <td>A1NKJW0TNRVS7O</td>\n",
       "      <td>B0000DIWNZ</td>\n",
       "      <td>Tamara M.</td>\n",
       "      <td>Good clinging</td>\n",
       "      <td>Clings  well</td>\n",
       "      <td>1418515200</td>\n",
       "      <td>NaN</td>\n",
       "      <td>NaN</td>\n",
       "      <td>NaN</td>\n",
       "    </tr>\n",
       "    <tr>\n",
       "      <th>1</th>\n",
       "      <td>4</td>\n",
       "      <td>True</td>\n",
       "      <td>11 20, 2014</td>\n",
       "      <td>A2L6X37E8TFTCC</td>\n",
       "      <td>B0000DIWNZ</td>\n",
       "      <td>Amazon Customer</td>\n",
       "      <td>Fantastic buy and a good plastic wrap.  Even t...</td>\n",
       "      <td>Saran could use more Plus to Cling better.</td>\n",
       "      <td>1416441600</td>\n",
       "      <td>NaN</td>\n",
       "      <td>NaN</td>\n",
       "      <td>NaN</td>\n",
       "    </tr>\n",
       "    <tr>\n",
       "      <th>2</th>\n",
       "      <td>4</td>\n",
       "      <td>True</td>\n",
       "      <td>10 11, 2014</td>\n",
       "      <td>A2WPR4W6V48121</td>\n",
       "      <td>B0000DIWNZ</td>\n",
       "      <td>noname</td>\n",
       "      <td>ok</td>\n",
       "      <td>Four Stars</td>\n",
       "      <td>1412985600</td>\n",
       "      <td>NaN</td>\n",
       "      <td>NaN</td>\n",
       "      <td>NaN</td>\n",
       "    </tr>\n",
       "    <tr>\n",
       "      <th>3</th>\n",
       "      <td>3</td>\n",
       "      <td>False</td>\n",
       "      <td>09 1, 2014</td>\n",
       "      <td>A27EE7X7L29UMU</td>\n",
       "      <td>B0000DIWNZ</td>\n",
       "      <td>ZapNZs</td>\n",
       "      <td>Saran Cling Plus is kind of like most of the C...</td>\n",
       "      <td>The wrap is fantastic, but the dispensing, cut...</td>\n",
       "      <td>1409529600</td>\n",
       "      <td>4</td>\n",
       "      <td>NaN</td>\n",
       "      <td>NaN</td>\n",
       "    </tr>\n",
       "    <tr>\n",
       "      <th>4</th>\n",
       "      <td>4</td>\n",
       "      <td>True</td>\n",
       "      <td>08 10, 2014</td>\n",
       "      <td>A1OWT4YZGB5GV9</td>\n",
       "      <td>B0000DIWNZ</td>\n",
       "      <td>Amy Rogers</td>\n",
       "      <td>This is my go to plastic wrap so there isn't m...</td>\n",
       "      <td>has been doing it's job for years</td>\n",
       "      <td>1407628800</td>\n",
       "      <td>NaN</td>\n",
       "      <td>NaN</td>\n",
       "      <td>NaN</td>\n",
       "    </tr>\n",
       "    <tr>\n",
       "      <th>...</th>\n",
       "      <td>...</td>\n",
       "      <td>...</td>\n",
       "      <td>...</td>\n",
       "      <td>...</td>\n",
       "      <td>...</td>\n",
       "      <td>...</td>\n",
       "      <td>...</td>\n",
       "      <td>...</td>\n",
       "      <td>...</td>\n",
       "      <td>...</td>\n",
       "      <td>...</td>\n",
       "      <td>...</td>\n",
       "    </tr>\n",
       "    <tr>\n",
       "      <th>471609</th>\n",
       "      <td>5</td>\n",
       "      <td>True</td>\n",
       "      <td>05 16, 2017</td>\n",
       "      <td>A19GSVHXVT5NNF</td>\n",
       "      <td>B01HI8JVI8</td>\n",
       "      <td>Mary Bright</td>\n",
       "      <td>Easy and delicious! I am usually a make-my-own...</td>\n",
       "      <td>Easy and delicious</td>\n",
       "      <td>1494892800</td>\n",
       "      <td>NaN</td>\n",
       "      <td>NaN</td>\n",
       "      <td>NaN</td>\n",
       "    </tr>\n",
       "    <tr>\n",
       "      <th>471610</th>\n",
       "      <td>5</td>\n",
       "      <td>True</td>\n",
       "      <td>05 3, 2017</td>\n",
       "      <td>ABSCTKLX9F9IU</td>\n",
       "      <td>B01HI8JVI8</td>\n",
       "      <td>Lisa and Eric</td>\n",
       "      <td>Our elderly neighbor loves this and eats it on...</td>\n",
       "      <td>Salsa</td>\n",
       "      <td>1493769600</td>\n",
       "      <td>NaN</td>\n",
       "      <td>NaN</td>\n",
       "      <td>NaN</td>\n",
       "    </tr>\n",
       "    <tr>\n",
       "      <th>471611</th>\n",
       "      <td>5</td>\n",
       "      <td>False</td>\n",
       "      <td>04 20, 2017</td>\n",
       "      <td>A2R33RCWKDHZ3L</td>\n",
       "      <td>B01HI8JVI8</td>\n",
       "      <td>Elle S.</td>\n",
       "      <td>Great product, great price.</td>\n",
       "      <td>Five Stars</td>\n",
       "      <td>1492646400</td>\n",
       "      <td>NaN</td>\n",
       "      <td>NaN</td>\n",
       "      <td>NaN</td>\n",
       "    </tr>\n",
       "    <tr>\n",
       "      <th>471612</th>\n",
       "      <td>5</td>\n",
       "      <td>True</td>\n",
       "      <td>04 19, 2017</td>\n",
       "      <td>A2INGHYEXZDHMC</td>\n",
       "      <td>B01HI8JVI8</td>\n",
       "      <td>Shelina is Platinum!</td>\n",
       "      <td>Great size value for the price! Salsa is chunk...</td>\n",
       "      <td>Five Stars</td>\n",
       "      <td>1492560000</td>\n",
       "      <td>NaN</td>\n",
       "      <td>NaN</td>\n",
       "      <td>NaN</td>\n",
       "    </tr>\n",
       "    <tr>\n",
       "      <th>471613</th>\n",
       "      <td>5</td>\n",
       "      <td>True</td>\n",
       "      <td>02 23, 2017</td>\n",
       "      <td>AJ8M6GVFGIRLS</td>\n",
       "      <td>B01HI8JVI8</td>\n",
       "      <td>BIGGUY</td>\n",
       "      <td>I used to buy a different name brand of salsa ...</td>\n",
       "      <td>Great salsa</td>\n",
       "      <td>1487808000</td>\n",
       "      <td>NaN</td>\n",
       "      <td>NaN</td>\n",
       "      <td>NaN</td>\n",
       "    </tr>\n",
       "  </tbody>\n",
       "</table>\n",
       "<p>471614 rows × 12 columns</p>\n",
       "</div>"
      ],
      "text/plain": [
       "        overall  verified   reviewTime      reviewerID        asin  \\\n",
       "0             5      True  12 14, 2014  A1NKJW0TNRVS7O  B0000DIWNZ   \n",
       "1             4      True  11 20, 2014  A2L6X37E8TFTCC  B0000DIWNZ   \n",
       "2             4      True  10 11, 2014  A2WPR4W6V48121  B0000DIWNZ   \n",
       "3             3     False   09 1, 2014  A27EE7X7L29UMU  B0000DIWNZ   \n",
       "4             4      True  08 10, 2014  A1OWT4YZGB5GV9  B0000DIWNZ   \n",
       "...         ...       ...          ...             ...         ...   \n",
       "471609        5      True  05 16, 2017  A19GSVHXVT5NNF  B01HI8JVI8   \n",
       "471610        5      True   05 3, 2017   ABSCTKLX9F9IU  B01HI8JVI8   \n",
       "471611        5     False  04 20, 2017  A2R33RCWKDHZ3L  B01HI8JVI8   \n",
       "471612        5      True  04 19, 2017  A2INGHYEXZDHMC  B01HI8JVI8   \n",
       "471613        5      True  02 23, 2017   AJ8M6GVFGIRLS  B01HI8JVI8   \n",
       "\n",
       "                reviewerName  \\\n",
       "0                  Tamara M.   \n",
       "1            Amazon Customer   \n",
       "2                     noname   \n",
       "3                     ZapNZs   \n",
       "4                 Amy Rogers   \n",
       "...                      ...   \n",
       "471609           Mary Bright   \n",
       "471610         Lisa and Eric   \n",
       "471611               Elle S.   \n",
       "471612  Shelina is Platinum!   \n",
       "471613                BIGGUY   \n",
       "\n",
       "                                               reviewText  \\\n",
       "0                                           Good clinging   \n",
       "1       Fantastic buy and a good plastic wrap.  Even t...   \n",
       "2                                                      ok   \n",
       "3       Saran Cling Plus is kind of like most of the C...   \n",
       "4       This is my go to plastic wrap so there isn't m...   \n",
       "...                                                   ...   \n",
       "471609  Easy and delicious! I am usually a make-my-own...   \n",
       "471610  Our elderly neighbor loves this and eats it on...   \n",
       "471611                        Great product, great price.   \n",
       "471612  Great size value for the price! Salsa is chunk...   \n",
       "471613  I used to buy a different name brand of salsa ...   \n",
       "\n",
       "                                                  summary  unixReviewTime  \\\n",
       "0                                            Clings  well      1418515200   \n",
       "1              Saran could use more Plus to Cling better.      1416441600   \n",
       "2                                              Four Stars      1412985600   \n",
       "3       The wrap is fantastic, but the dispensing, cut...      1409529600   \n",
       "4                       has been doing it's job for years      1407628800   \n",
       "...                                                   ...             ...   \n",
       "471609                                 Easy and delicious      1494892800   \n",
       "471610                                              Salsa      1493769600   \n",
       "471611                                         Five Stars      1492646400   \n",
       "471612                                         Five Stars      1492560000   \n",
       "471613                                        Great salsa      1487808000   \n",
       "\n",
       "       vote image style  \n",
       "0       NaN   NaN   NaN  \n",
       "1       NaN   NaN   NaN  \n",
       "2       NaN   NaN   NaN  \n",
       "3         4   NaN   NaN  \n",
       "4       NaN   NaN   NaN  \n",
       "...     ...   ...   ...  \n",
       "471609  NaN   NaN   NaN  \n",
       "471610  NaN   NaN   NaN  \n",
       "471611  NaN   NaN   NaN  \n",
       "471612  NaN   NaN   NaN  \n",
       "471613  NaN   NaN   NaN  \n",
       "\n",
       "[471614 rows x 12 columns]"
      ]
     },
     "execution_count": 3,
     "metadata": {},
     "output_type": "execute_result"
    }
   ],
   "source": [
    "df"
   ]
  },
  {
   "cell_type": "code",
   "execution_count": 4,
   "id": "a8d2aad2-3c81-43d6-807c-141dcccc6412",
   "metadata": {
    "tags": []
   },
   "outputs": [
    {
     "data": {
      "text/plain": [
       "(471614, 12)"
      ]
     },
     "execution_count": 4,
     "metadata": {},
     "output_type": "execute_result"
    }
   ],
   "source": [
    "# Output the number of rows and columns in the data set\n",
    "df.shape"
   ]
  },
  {
   "cell_type": "code",
   "execution_count": 5,
   "id": "6caec56b-60d4-4644-a6d5-36aaef210c19",
   "metadata": {},
   "outputs": [
    {
     "name": "stdout",
     "output_type": "stream",
     "text": [
      "<class 'pandas.core.frame.DataFrame'>\n",
      "RangeIndex: 471614 entries, 0 to 471613\n",
      "Data columns (total 12 columns):\n",
      " #   Column          Non-Null Count   Dtype \n",
      "---  ------          --------------   ----- \n",
      " 0   overall         471614 non-null  int64 \n",
      " 1   verified        471614 non-null  bool  \n",
      " 2   reviewTime      471614 non-null  object\n",
      " 3   reviewerID      471614 non-null  object\n",
      " 4   asin            471614 non-null  object\n",
      " 5   reviewerName    471578 non-null  object\n",
      " 6   reviewText      471233 non-null  object\n",
      " 7   summary         471473 non-null  object\n",
      " 8   unixReviewTime  471614 non-null  int64 \n",
      " 9   vote            41716 non-null   object\n",
      " 10  image           3568 non-null    object\n",
      " 11  style           6933 non-null    object\n",
      "dtypes: bool(1), int64(2), object(9)\n",
      "memory usage: 40.0+ MB\n"
     ]
    }
   ],
   "source": [
    "# Display column names, non-null value counts, and data types\n",
    "df.info()"
   ]
  },
  {
   "cell_type": "code",
   "execution_count": 6,
   "id": "f74b5297-569e-4731-afe3-892436649205",
   "metadata": {},
   "outputs": [],
   "source": [
    "# Export the imported data set to a CSV file\n",
    "df.to_csv(r'C:\\Users\\wstul\\d213\\prime_pantry_reviews.csv')"
   ]
  },
  {
   "cell_type": "code",
   "execution_count": 7,
   "id": "e9415eca-cd6f-42a2-b514-83f71d60ac80",
   "metadata": {},
   "outputs": [],
   "source": [
    "# Remove columns not relevant to objective from data frame\n",
    "df = df.drop(['vote', 'image', 'style', 'verified', 'reviewTime', 'reviewerID', \n",
    "              'asin', 'reviewerName', 'unixReviewTime'], axis = 1)"
   ]
  },
  {
   "cell_type": "code",
   "execution_count": 8,
   "id": "5719f8de-558f-4b8e-82b9-c6dd42c374d1",
   "metadata": {},
   "outputs": [
    {
     "data": {
      "text/plain": [
       "overall         0\n",
       "reviewText    381\n",
       "summary       141\n",
       "dtype: int64"
      ]
     },
     "execution_count": 8,
     "metadata": {},
     "output_type": "execute_result"
    }
   ],
   "source": [
    "# Check the remaining columns for null values\n",
    "df.isnull().sum()"
   ]
  },
  {
   "cell_type": "code",
   "execution_count": 9,
   "id": "f93a5b1a-2a72-404d-a018-a5200c261406",
   "metadata": {},
   "outputs": [],
   "source": [
    "# Drop rows with null values from the data frame\n",
    "df = df.dropna()"
   ]
  },
  {
   "cell_type": "code",
   "execution_count": 10,
   "id": "5ad7e9df-b659-4835-901a-03037f320c5e",
   "metadata": {},
   "outputs": [
    {
     "data": {
      "text/plain": [
       "overall       0\n",
       "reviewText    0\n",
       "summary       0\n",
       "dtype: int64"
      ]
     },
     "execution_count": 10,
     "metadata": {},
     "output_type": "execute_result"
    }
   ],
   "source": [
    "# Verify that null values have been removed\n",
    "df.isnull().sum()"
   ]
  },
  {
   "cell_type": "code",
   "execution_count": 11,
   "id": "9521d5ad-088d-4cff-b59f-fb352ff7af96",
   "metadata": {},
   "outputs": [
    {
     "data": {
      "text/plain": [
       "(471115, 3)"
      ]
     },
     "execution_count": 11,
     "metadata": {},
     "output_type": "execute_result"
    }
   ],
   "source": [
    "# Output the number of rows and columns in the reduced data set\n",
    "df.shape"
   ]
  },
  {
   "cell_type": "code",
   "execution_count": 12,
   "id": "9e8ee4b6-efb9-467e-99d4-8e2fa0eae839",
   "metadata": {},
   "outputs": [],
   "source": [
    "# Concatenate text in summary and reviewText columns to produce a single review column\n",
    "df['review'] = df[['summary', 'reviewText']].agg(' '.join, axis=1)"
   ]
  },
  {
   "cell_type": "code",
   "execution_count": 13,
   "id": "e1079d79-1e9b-441f-8696-b5e8df8e679c",
   "metadata": {},
   "outputs": [],
   "source": [
    "# Drop the summary and reviewText columns\n",
    "df = df.drop(['summary', 'reviewText'], axis = 1)"
   ]
  },
  {
   "cell_type": "code",
   "execution_count": 14,
   "id": "0bb7f1ce-e953-4625-9071-9ff7ec4e7e30",
   "metadata": {
    "tags": []
   },
   "outputs": [
    {
     "data": {
      "text/plain": [
       "(471115, 2)"
      ]
     },
     "execution_count": 14,
     "metadata": {},
     "output_type": "execute_result"
    }
   ],
   "source": [
    "# Output the number of rows and columns in the reduced data set\n",
    "df.shape"
   ]
  },
  {
   "cell_type": "code",
   "execution_count": 15,
   "id": "1c7798a4-8d81-4182-8279-a9204dddd605",
   "metadata": {},
   "outputs": [
    {
     "data": {
      "text/html": [
       "<div>\n",
       "<style scoped>\n",
       "    .dataframe tbody tr th:only-of-type {\n",
       "        vertical-align: middle;\n",
       "    }\n",
       "\n",
       "    .dataframe tbody tr th {\n",
       "        vertical-align: top;\n",
       "    }\n",
       "\n",
       "    .dataframe thead th {\n",
       "        text-align: right;\n",
       "    }\n",
       "</style>\n",
       "<table border=\"1\" class=\"dataframe\">\n",
       "  <thead>\n",
       "    <tr style=\"text-align: right;\">\n",
       "      <th></th>\n",
       "      <th>overall</th>\n",
       "      <th>review</th>\n",
       "    </tr>\n",
       "  </thead>\n",
       "  <tbody>\n",
       "    <tr>\n",
       "      <th>0</th>\n",
       "      <td>5</td>\n",
       "      <td>Clings  well Good clinging</td>\n",
       "    </tr>\n",
       "    <tr>\n",
       "      <th>1</th>\n",
       "      <td>4</td>\n",
       "      <td>Saran could use more Plus to Cling better. Fantastic buy and a good plastic wrap.  Even though labeled \"Cling Plus,\" I feel that another plastic wrap holds and clings tighter for me.\\nStill, for t...</td>\n",
       "    </tr>\n",
       "    <tr>\n",
       "      <th>2</th>\n",
       "      <td>4</td>\n",
       "      <td>Four Stars ok</td>\n",
       "    </tr>\n",
       "    <tr>\n",
       "      <th>3</th>\n",
       "      <td>3</td>\n",
       "      <td>The wrap is fantastic, but the dispensing, cutting, &amp; packaging is lackluster, making the Saran less convenient &amp; time-saving Saran Cling Plus is kind of like most of the Cling Wrap from Glad. It ...</td>\n",
       "    </tr>\n",
       "    <tr>\n",
       "      <th>4</th>\n",
       "      <td>4</td>\n",
       "      <td>has been doing it's job for years This is my go to plastic wrap so there isn't much bad I can say. Plastic wrap is kind of a pain when you are trying to get it off the roll and it sticks to itself...</td>\n",
       "    </tr>\n",
       "    <tr>\n",
       "      <th>...</th>\n",
       "      <td>...</td>\n",
       "      <td>...</td>\n",
       "    </tr>\n",
       "    <tr>\n",
       "      <th>471609</th>\n",
       "      <td>5</td>\n",
       "      <td>Easy and delicious Easy and delicious! I am usually a make-my-own-salsa kind of a person but sometimes you can't beat the convenience and it's nice to keep these around in case you have unexpected...</td>\n",
       "    </tr>\n",
       "    <tr>\n",
       "      <th>471610</th>\n",
       "      <td>5</td>\n",
       "      <td>Salsa Our elderly neighbor loves this and eats it on everything.</td>\n",
       "    </tr>\n",
       "    <tr>\n",
       "      <th>471611</th>\n",
       "      <td>5</td>\n",
       "      <td>Five Stars Great product, great price.</td>\n",
       "    </tr>\n",
       "    <tr>\n",
       "      <th>471612</th>\n",
       "      <td>5</td>\n",
       "      <td>Five Stars Great size value for the price! Salsa is chunky &amp; hearty. Full of FLAVOR!!!</td>\n",
       "    </tr>\n",
       "    <tr>\n",
       "      <th>471613</th>\n",
       "      <td>5</td>\n",
       "      <td>Great salsa I used to buy a different name brand of salsa and then happened to see this one when placing an order in the small jars and decided to try it.  I love it and now by the large jugs of i...</td>\n",
       "    </tr>\n",
       "  </tbody>\n",
       "</table>\n",
       "<p>471115 rows × 2 columns</p>\n",
       "</div>"
      ],
      "text/plain": [
       "        overall  \\\n",
       "0             5   \n",
       "1             4   \n",
       "2             4   \n",
       "3             3   \n",
       "4             4   \n",
       "...         ...   \n",
       "471609        5   \n",
       "471610        5   \n",
       "471611        5   \n",
       "471612        5   \n",
       "471613        5   \n",
       "\n",
       "                                                                                                                                                                                                         review  \n",
       "0                                                                                                                                                                                    Clings  well Good clinging  \n",
       "1       Saran could use more Plus to Cling better. Fantastic buy and a good plastic wrap.  Even though labeled \"Cling Plus,\" I feel that another plastic wrap holds and clings tighter for me.\\nStill, for t...  \n",
       "2                                                                                                                                                                                                 Four Stars ok  \n",
       "3       The wrap is fantastic, but the dispensing, cutting, & packaging is lackluster, making the Saran less convenient & time-saving Saran Cling Plus is kind of like most of the Cling Wrap from Glad. It ...  \n",
       "4       has been doing it's job for years This is my go to plastic wrap so there isn't much bad I can say. Plastic wrap is kind of a pain when you are trying to get it off the roll and it sticks to itself...  \n",
       "...                                                                                                                                                                                                         ...  \n",
       "471609  Easy and delicious Easy and delicious! I am usually a make-my-own-salsa kind of a person but sometimes you can't beat the convenience and it's nice to keep these around in case you have unexpected...  \n",
       "471610                                                                                                                                         Salsa Our elderly neighbor loves this and eats it on everything.  \n",
       "471611                                                                                                                                                                   Five Stars Great product, great price.  \n",
       "471612                                                                                                                   Five Stars Great size value for the price! Salsa is chunky & hearty. Full of FLAVOR!!!  \n",
       "471613  Great salsa I used to buy a different name brand of salsa and then happened to see this one when placing an order in the small jars and decided to try it.  I love it and now by the large jugs of i...  \n",
       "\n",
       "[471115 rows x 2 columns]"
      ]
     },
     "execution_count": 15,
     "metadata": {},
     "output_type": "execute_result"
    }
   ],
   "source": [
    "# Expand column width for review column and view data set\n",
    "pd.set_option('display.max_colwidth', 200)\n",
    "df"
   ]
  },
  {
   "cell_type": "markdown",
   "id": "38cfd160-fbc6-4ba9-968c-ebad0ffa23da",
   "metadata": {},
   "source": [
    "## B1. Exploratory Data Analysis\n",
    "\n",
    "* Presence of Unusual Characters\n",
    "\n",
    "The isascii() function provides a quick way to determine whether any non-ASCII characters are present in the review text.  I employed this by creating a new column named \"asciicheck\" and routing the output of the isascii() function for each review to the new column.  The presence of non-ASCII characters would be indicated by a \"False\" value in the asciicheck column.\n"
   ]
  },
  {
   "cell_type": "code",
   "execution_count": 16,
   "id": "49c654ff-3ce7-4e57-b82c-1177bb70641f",
   "metadata": {},
   "outputs": [
    {
     "name": "stdout",
     "output_type": "stream",
     "text": [
      "True    471115\n",
      "Name: asciicheck, dtype: int64\n"
     ]
    }
   ],
   "source": [
    "# Create an 'asciicheck' column\n",
    "# Check each review for non-ascii characters and populate asciicheck column with results\n",
    "# True = all ascii\n",
    "# False = non-ascii character detected\n",
    "df['asciicheck'] = df['review'].apply(lambda x: x.isascii())\n",
    "print(df['asciicheck'].value_counts())"
   ]
  },
  {
   "cell_type": "markdown",
   "id": "907b1d62-9b70-49b9-ba0e-e4fa403f061f",
   "metadata": {},
   "source": [
    "Before determining vocabulary size, word embedding length, and maximum sequence length, I will perform further cleaning on the text data in the review column.  I am employing a set of functions, seen below, that will put the text through a series of transformations resulting in text that adheres to more uniform formatting.  These steps include:\n",
    "1. Conversion of all characters to lowercase\n",
    "2. Removal of all punctuation\n",
    "3. Removal of newline characters\n",
    "4. Removal of \"stopwords\"\n",
    "5. Lemmatization\n",
    "\n",
    "Once these transformations are complete, I will check the review column for any blank reviews and drop those rows if any exist."
   ]
  },
  {
   "cell_type": "code",
   "execution_count": 17,
   "id": "41d87def-80aa-4df0-9d99-63b92734b477",
   "metadata": {},
   "outputs": [],
   "source": [
    "# Simple remove punctuation\n",
    "def remove_punctuation(text):\n",
    "    text_nopunct = \"\".join([c for c in text if c not in string.punctuation])\n",
    "    return text_nopunct\n",
    "\n",
    "# Remove newline (\\n) characters and replace with space\n",
    "def remove_newline(text):\n",
    "    return ' '.join(text.splitlines())\n",
    "\n",
    "# Remove stopwords and extra space\n",
    "def remove_stopwords(text):\n",
    "    text_words = re.split('\\W+', text)\n",
    "    text_nostop = [word for word in text_words if word not in stopwords]\n",
    "    return text_nostop\n",
    "\n",
    "# Remove punctuation and replace with space\n",
    "def remove_punctuation_2(text):\n",
    "    text_nopunct = \" \".join([c for c in text if c not in string.punctuation])\n",
    "    return text_nopunct\n",
    "\n",
    "# Simple lemmatization function\n",
    "def lemmatization(text):\n",
    "    wn = nltk.WordNetLemmatizer()\n",
    "    text_words = re.split('\\W+', text)\n",
    "    lemmatext = [wn.lemmatize(word) for word in text_words]\n",
    "    return lemmatext"
   ]
  },
  {
   "cell_type": "code",
   "execution_count": 18,
   "id": "5cc7d823-526a-42d0-af73-f06ddb406876",
   "metadata": {},
   "outputs": [
    {
     "data": {
      "text/html": [
       "<div>\n",
       "<style scoped>\n",
       "    .dataframe tbody tr th:only-of-type {\n",
       "        vertical-align: middle;\n",
       "    }\n",
       "\n",
       "    .dataframe tbody tr th {\n",
       "        vertical-align: top;\n",
       "    }\n",
       "\n",
       "    .dataframe thead th {\n",
       "        text-align: right;\n",
       "    }\n",
       "</style>\n",
       "<table border=\"1\" class=\"dataframe\">\n",
       "  <thead>\n",
       "    <tr style=\"text-align: right;\">\n",
       "      <th></th>\n",
       "      <th>overall</th>\n",
       "      <th>review</th>\n",
       "      <th>asciicheck</th>\n",
       "    </tr>\n",
       "  </thead>\n",
       "  <tbody>\n",
       "    <tr>\n",
       "      <th>0</th>\n",
       "      <td>5</td>\n",
       "      <td>cling well good clinging</td>\n",
       "      <td>True</td>\n",
       "    </tr>\n",
       "    <tr>\n",
       "      <th>1</th>\n",
       "      <td>4</td>\n",
       "      <td>saran could use plus cling better fantastic buy good plastic wrap even though labeled cling plus feel another plastic wrap hold cling tighter still price roll size ill order product needed amazon ...</td>\n",
       "      <td>True</td>\n",
       "    </tr>\n",
       "    <tr>\n",
       "      <th>2</th>\n",
       "      <td>4</td>\n",
       "      <td>four star ok</td>\n",
       "      <td>True</td>\n",
       "    </tr>\n",
       "    <tr>\n",
       "      <th>3</th>\n",
       "      <td>3</td>\n",
       "      <td>wrap fantastic dispensing cutting packaging lackluster making saran le convenient timesaving saran cling plus kind like cling wrap glad good quality plastic wrap delivery system poorly executed ma...</td>\n",
       "      <td>True</td>\n",
       "    </tr>\n",
       "    <tr>\n",
       "      <th>4</th>\n",
       "      <td>4</td>\n",
       "      <td>job year go plastic wrap isnt much bad say plastic wrap kind pain trying get roll stick dont seem problem cling plus come nice rip well usually stick well need say use wrap thing go container dont...</td>\n",
       "      <td>True</td>\n",
       "    </tr>\n",
       "  </tbody>\n",
       "</table>\n",
       "</div>"
      ],
      "text/plain": [
       "   overall  \\\n",
       "0        5   \n",
       "1        4   \n",
       "2        4   \n",
       "3        3   \n",
       "4        4   \n",
       "\n",
       "                                                                                                                                                                                                    review  \\\n",
       "0                                                                                                                                                                                 cling well good clinging   \n",
       "1  saran could use plus cling better fantastic buy good plastic wrap even though labeled cling plus feel another plastic wrap hold cling tighter still price roll size ill order product needed amazon ...   \n",
       "2                                                                                                                                                                                             four star ok   \n",
       "3  wrap fantastic dispensing cutting packaging lackluster making saran le convenient timesaving saran cling plus kind like cling wrap glad good quality plastic wrap delivery system poorly executed ma...   \n",
       "4  job year go plastic wrap isnt much bad say plastic wrap kind pain trying get roll stick dont seem problem cling plus come nice rip well usually stick well need say use wrap thing go container dont...   \n",
       "\n",
       "   asciicheck  \n",
       "0        True  \n",
       "1        True  \n",
       "2        True  \n",
       "3        True  \n",
       "4        True  "
      ]
     },
     "execution_count": 18,
     "metadata": {},
     "output_type": "execute_result"
    }
   ],
   "source": [
    "stopwords = nltk.corpus.stopwords.words('english')\n",
    "df['review'] = df['review'].map(lambda x: x.lower())\n",
    "df['review'] = df['review'].apply(lambda x: remove_punctuation(x))\n",
    "df['review'] = df['review'].apply(lambda x: remove_newline(x))\n",
    "df['review'] = df['review'].apply(lambda x: remove_stopwords(x))\n",
    "df['review'] = df['review'].apply(lambda x: remove_punctuation_2(x))\n",
    "df['review'] = df['review'].apply(lambda x: lemmatization(x))\n",
    "df['review'] = df['review'].apply(lambda x: remove_punctuation_2(x))\n",
    "df.head()"
   ]
  },
  {
   "cell_type": "code",
   "execution_count": 37,
   "id": "2ffb8d09-802d-43d3-9aa6-efe0a639017a",
   "metadata": {},
   "outputs": [
    {
     "data": {
      "text/plain": [
       "Int64Index([ 11453,  14177,  21716,  77990,  81752,  89597, 100667, 106003,\n",
       "            106341, 106536, 110557, 113674, 126784, 128206, 141753, 153375,\n",
       "            177897, 183820, 207094, 211344, 212040, 213631, 223385, 227946,\n",
       "            231032, 234374, 235169, 246876, 252103, 258603, 268637, 298257,\n",
       "            302412, 320154, 329583, 336059, 351223, 373462, 395641, 396935,\n",
       "            416045, 419410, 443771, 465529, 471376],\n",
       "           dtype='int64')"
      ]
     },
     "execution_count": 37,
     "metadata": {},
     "output_type": "execute_result"
    }
   ],
   "source": [
    "# Post-transformation check for blank entries in review column\n",
    "blank_reviews = df[df['review'] == ''].index\n",
    "blank_reviews"
   ]
  },
  {
   "cell_type": "code",
   "execution_count": 38,
   "id": "9481b4b0-ce66-45df-9286-080d408991d7",
   "metadata": {},
   "outputs": [
    {
     "data": {
      "text/plain": [
       "Int64Index([], dtype='int64')"
      ]
     },
     "execution_count": 38,
     "metadata": {},
     "output_type": "execute_result"
    }
   ],
   "source": [
    "# Drop rows with blank reviews and run blank review check again to confirm deletion\n",
    "df.drop(blank_reviews , inplace=True)\n",
    "df[df['review'] == ''].index"
   ]
  },
  {
   "cell_type": "markdown",
   "id": "f73c7f21-5b6b-4add-9db0-6b4dce073672",
   "metadata": {},
   "source": [
    "* Vocabulary Size\n",
    "\n",
    "To determine the vocabulary size, which will be needed for model configuration later, I will tokenize the text in the review column using the Keras Tokenizer() object.  Once the tokenizer is fitted to the review texts, I will have a word index to utilize in determining the vocabulary size.  The vocabulary size is determined by taking the returned value when using the len() function on the word index, and then adding 1.  For me, this results in a vocabulary size of 93847."
   ]
  },
  {
   "cell_type": "code",
   "execution_count": 42,
   "id": "5ed5c393-0ec7-40a1-8078-dc0839094232",
   "metadata": {},
   "outputs": [],
   "source": [
    "# Initialize Tokenizer and fit to review texts\n",
    "tokenizer = Tokenizer()\n",
    "fit_text = df['review']\n",
    "tokenizer.fit_on_texts(fit_text)"
   ]
  },
  {
   "cell_type": "code",
   "execution_count": 43,
   "id": "1ffb41ba-1e5e-4b46-b4a7-b36a092d4f78",
   "metadata": {},
   "outputs": [
    {
     "name": "stdout",
     "output_type": "stream",
     "text": [
      "[('star', 1), ('great', 2), ('five', 3), ('good', 4), ('love', 5), ('like', 6), ('product', 7), ('taste', 8), ('one', 9), ('use', 10)]\n"
     ]
    }
   ],
   "source": [
    "# Return the first n vales of a dictionary\n",
    "def take(n, iterable):\n",
    "    return list(islice(iterable, n))\n",
    "\n",
    "# Create a word index from tokens and print the first 10 dictionary entries\n",
    "token_dict = tokenizer.word_index\n",
    "tokensamples = take(10, token_dict.items())\n",
    "print(tokensamples)"
   ]
  },
  {
   "cell_type": "code",
   "execution_count": 44,
   "id": "7e1ca618-7a1f-4fd9-a897-837d3bd0bcdb",
   "metadata": {},
   "outputs": [
    {
     "name": "stdout",
     "output_type": "stream",
     "text": [
      "Vocabulary Size:  93847\n"
     ]
    }
   ],
   "source": [
    "# Determine vocabulary size via len() on word index and adding 1\n",
    "vocabulary_size = len(token_dict) + 1\n",
    "print(\"Vocabulary Size: \", vocabulary_size)"
   ]
  },
  {
   "cell_type": "markdown",
   "id": "0275f0ee-d5d0-4966-93b8-dcd14df53dc8",
   "metadata": {},
   "source": [
    "* Proposed Word Embedding Length\n",
    "\n",
    "According to Sally Goldman, a Google research scientist, \"a good empirical rule of thumb is the number of dimensions to be roughly the fourth root\" of the vocabulary size (Goldman, 2022).  The code and output shown below display my calculation of embedding dimension for this vocabulary set."
   ]
  },
  {
   "cell_type": "code",
   "execution_count": 52,
   "id": "9348ab19-a9c9-4f78-b4e1-6b9de6499986",
   "metadata": {},
   "outputs": [
    {
     "data": {
      "text/plain": [
       "18"
      ]
     },
     "execution_count": 52,
     "metadata": {},
     "output_type": "execute_result"
    }
   ],
   "source": [
    "max_sequence_embedding = int(round(np.sqrt(np.sqrt(vocabulary_size)), 0))\n",
    "max_sequence_embedding"
   ]
  },
  {
   "cell_type": "markdown",
   "id": "265935db-3a37-4e30-9bc0-ce9721e59809",
   "metadata": {},
   "source": [
    "* Maximum Sequence Length\n",
    "\n",
    "The most natural value for maximum sequence length is to use the longest review (measured in words) as the basis.  The code and output below show how I determine the highest word count among the reviews in the cleaned data set."
   ]
  },
  {
   "cell_type": "code",
   "execution_count": 45,
   "id": "b14f2d99-3dee-41aa-b74a-cbc907e30560",
   "metadata": {},
   "outputs": [
    {
     "name": "stdout",
     "output_type": "stream",
     "text": [
      "Longest word count:  1112\n"
     ]
    }
   ],
   "source": [
    "# Identify the longest review stated in number of words\n",
    "max_words = df['review'].str.split(\"\\\\s+\")\n",
    "word_count= max_words.str.len().max()\n",
    "print(\"Longest word count: \", word_count)"
   ]
  },
  {
   "cell_type": "markdown",
   "id": "4eb84a0a-5403-4afa-8cd6-848e0fbd7a31",
   "metadata": {},
   "source": [
    "## B2. Goals of the Tokenization Process\n",
    "\n",
    "Tokenization involves breaking down the raw text into individual pieces, or \"tokens\", which makes evaluating the context in which each word is used easier for the CNN.  The goal of this tokenization process is to prepare the text for consumption by the neural network and enable a more accurate interpretation of the meaning of the text (Chakravarthy, 2020).\n",
    "\n",
    "The packages and code I utilized to normalize text for tokenization can be found in the previous sections of this document."
   ]
  },
  {
   "cell_type": "markdown",
   "id": "1e050bcf-a376-45fa-bff5-d4476ca20bf8",
   "metadata": {},
   "source": [
    "## B3. Padding Process\n",
    "\n",
    "When working with convolutional neural networks, each instance of input data must be the same length.  Since it is common for sentences and reviews to be of varying length we employ a transformation known as padding.  Padding adds \"masked\" steps at the start or end of a sequence, so sequences that are shorter than the longest sequence in the set will be \"padded\" with a placeholder value, giving all sequences in a batch a standard length.  Tensorflow documentation recommends padding the end of a sequence rather than the beginning for RNNs in particular, but considering the likelihood of more important information positioned at the beginning of our text sequences rather than the end, I will be padding the end of my sequences rather than the beginning (Tensorflow, 2022).\n",
    "\n",
    "A sample of a single padded sequence is shown below."
   ]
  },
  {
   "cell_type": "code",
   "execution_count": 50,
   "id": "0e313762-9f41-40ff-80f6-5e910096ae62",
   "metadata": {},
   "outputs": [
    {
     "name": "stdout",
     "output_type": "stream",
     "text": [
      "[array([1509, 1752,  771, ...,    0,    0,    0])]\n"
     ]
    }
   ],
   "source": [
    "padded_sequences = pad_sequences(sequences, maxlen=word_count, padding='post')\n",
    "padded_sample = take(1, padded_sequences)\n",
    "print(padded_sample)"
   ]
  },
  {
   "cell_type": "markdown",
   "id": "85ee1fac-f04b-497f-bb6f-dd224ac624e3",
   "metadata": {},
   "source": [
    "## B4. Sentiment Categories\n",
    "\n",
    "Upon analyzing the quantity of each \"star\" score in the data set (shown below), the reviews are skewed toward more favorable reviews.  I will be using two categories of sentiment: negative and positive, which I will represent with the values 0 and 1 respectively.  As this makes my sentiment metric binary, the final dense layer of the CNN will use \"sigmoid\" as its activation function, which is appropriate when working with binary values.\n",
    "\n",
    "Code performing the encoding of sentiment values in a new column of the data set is shown below.  Additionally, once this column is added, the final cleaned and prepared data set is exported to CSV format."
   ]
  },
  {
   "cell_type": "code",
   "execution_count": 39,
   "id": "67c06325-4c7a-437b-919f-740a5d155dfd",
   "metadata": {},
   "outputs": [
    {
     "name": "stdout",
     "output_type": "stream",
     "text": [
      "5    328015\n",
      "4     59202\n",
      "3     32929\n",
      "1     30586\n",
      "2     20338\n",
      "Name: overall, dtype: int64\n"
     ]
    }
   ],
   "source": [
    "# Print how many 5, 4, 3, 2 and 1 star reviews there are in the data\n",
    "print(df['overall'].value_counts())"
   ]
  },
  {
   "cell_type": "code",
   "execution_count": 40,
   "id": "9d87cdd6-8b85-46ad-818b-b7948b6976e3",
   "metadata": {
    "tags": []
   },
   "outputs": [
    {
     "data": {
      "text/html": [
       "<div>\n",
       "<style scoped>\n",
       "    .dataframe tbody tr th:only-of-type {\n",
       "        vertical-align: middle;\n",
       "    }\n",
       "\n",
       "    .dataframe tbody tr th {\n",
       "        vertical-align: top;\n",
       "    }\n",
       "\n",
       "    .dataframe thead th {\n",
       "        text-align: right;\n",
       "    }\n",
       "</style>\n",
       "<table border=\"1\" class=\"dataframe\">\n",
       "  <thead>\n",
       "    <tr style=\"text-align: right;\">\n",
       "      <th></th>\n",
       "      <th>overall</th>\n",
       "      <th>review</th>\n",
       "      <th>asciicheck</th>\n",
       "      <th>sentiment</th>\n",
       "    </tr>\n",
       "  </thead>\n",
       "  <tbody>\n",
       "    <tr>\n",
       "      <th>0</th>\n",
       "      <td>5</td>\n",
       "      <td>cling well good clinging</td>\n",
       "      <td>True</td>\n",
       "      <td>1</td>\n",
       "    </tr>\n",
       "    <tr>\n",
       "      <th>1</th>\n",
       "      <td>4</td>\n",
       "      <td>saran could use plus cling better fantastic buy good plastic wrap even though labeled cling plus feel another plastic wrap hold cling tighter still price roll size ill order product needed amazon ...</td>\n",
       "      <td>True</td>\n",
       "      <td>1</td>\n",
       "    </tr>\n",
       "    <tr>\n",
       "      <th>2</th>\n",
       "      <td>4</td>\n",
       "      <td>four star ok</td>\n",
       "      <td>True</td>\n",
       "      <td>1</td>\n",
       "    </tr>\n",
       "    <tr>\n",
       "      <th>3</th>\n",
       "      <td>3</td>\n",
       "      <td>wrap fantastic dispensing cutting packaging lackluster making saran le convenient timesaving saran cling plus kind like cling wrap glad good quality plastic wrap delivery system poorly executed ma...</td>\n",
       "      <td>True</td>\n",
       "      <td>0</td>\n",
       "    </tr>\n",
       "    <tr>\n",
       "      <th>4</th>\n",
       "      <td>4</td>\n",
       "      <td>job year go plastic wrap isnt much bad say plastic wrap kind pain trying get roll stick dont seem problem cling plus come nice rip well usually stick well need say use wrap thing go container dont...</td>\n",
       "      <td>True</td>\n",
       "      <td>1</td>\n",
       "    </tr>\n",
       "    <tr>\n",
       "      <th>...</th>\n",
       "      <td>...</td>\n",
       "      <td>...</td>\n",
       "      <td>...</td>\n",
       "      <td>...</td>\n",
       "    </tr>\n",
       "    <tr>\n",
       "      <th>471609</th>\n",
       "      <td>5</td>\n",
       "      <td>easy delicious easy delicious usually makemyownsalsa kind person sometimes cant beat convenience nice keep around case unexpected guest</td>\n",
       "      <td>True</td>\n",
       "      <td>1</td>\n",
       "    </tr>\n",
       "    <tr>\n",
       "      <th>471610</th>\n",
       "      <td>5</td>\n",
       "      <td>salsa elderly neighbor love eats everything</td>\n",
       "      <td>True</td>\n",
       "      <td>1</td>\n",
       "    </tr>\n",
       "    <tr>\n",
       "      <th>471611</th>\n",
       "      <td>5</td>\n",
       "      <td>five star great product great price</td>\n",
       "      <td>True</td>\n",
       "      <td>1</td>\n",
       "    </tr>\n",
       "    <tr>\n",
       "      <th>471612</th>\n",
       "      <td>5</td>\n",
       "      <td>five star great size value price salsa chunky hearty full flavor</td>\n",
       "      <td>True</td>\n",
       "      <td>1</td>\n",
       "    </tr>\n",
       "    <tr>\n",
       "      <th>471613</th>\n",
       "      <td>5</td>\n",
       "      <td>great salsa used buy different name brand salsa happened see one placing order small jar decided try love large jug great flavor nice chunk runny soupy like brand go salsa</td>\n",
       "      <td>True</td>\n",
       "      <td>1</td>\n",
       "    </tr>\n",
       "  </tbody>\n",
       "</table>\n",
       "<p>471070 rows × 4 columns</p>\n",
       "</div>"
      ],
      "text/plain": [
       "        overall  \\\n",
       "0             5   \n",
       "1             4   \n",
       "2             4   \n",
       "3             3   \n",
       "4             4   \n",
       "...         ...   \n",
       "471609        5   \n",
       "471610        5   \n",
       "471611        5   \n",
       "471612        5   \n",
       "471613        5   \n",
       "\n",
       "                                                                                                                                                                                                         review  \\\n",
       "0                                                                                                                                                                                      cling well good clinging   \n",
       "1       saran could use plus cling better fantastic buy good plastic wrap even though labeled cling plus feel another plastic wrap hold cling tighter still price roll size ill order product needed amazon ...   \n",
       "2                                                                                                                                                                                                  four star ok   \n",
       "3       wrap fantastic dispensing cutting packaging lackluster making saran le convenient timesaving saran cling plus kind like cling wrap glad good quality plastic wrap delivery system poorly executed ma...   \n",
       "4       job year go plastic wrap isnt much bad say plastic wrap kind pain trying get roll stick dont seem problem cling plus come nice rip well usually stick well need say use wrap thing go container dont...   \n",
       "...                                                                                                                                                                                                         ...   \n",
       "471609                                                                  easy delicious easy delicious usually makemyownsalsa kind person sometimes cant beat convenience nice keep around case unexpected guest   \n",
       "471610                                                                                                                                                              salsa elderly neighbor love eats everything   \n",
       "471611                                                                                                                                                                      five star great product great price   \n",
       "471612                                                                                                                                         five star great size value price salsa chunky hearty full flavor   \n",
       "471613                              great salsa used buy different name brand salsa happened see one placing order small jar decided try love large jug great flavor nice chunk runny soupy like brand go salsa   \n",
       "\n",
       "        asciicheck  sentiment  \n",
       "0             True          1  \n",
       "1             True          1  \n",
       "2             True          1  \n",
       "3             True          0  \n",
       "4             True          1  \n",
       "...            ...        ...  \n",
       "471609        True          1  \n",
       "471610        True          1  \n",
       "471611        True          1  \n",
       "471612        True          1  \n",
       "471613        True          1  \n",
       "\n",
       "[471070 rows x 4 columns]"
      ]
     },
     "execution_count": 40,
     "metadata": {},
     "output_type": "execute_result"
    }
   ],
   "source": [
    "# Create 'sentiment' column and populate with 0 or 1 based on star rating\n",
    "overall_mapper = {1 : 0, 2 : 0, 3 : 0, 4 : 1, 5 : 1}\n",
    "df['sentiment'] = df['overall'].replace(overall_mapper)\n",
    "df"
   ]
  },
  {
   "cell_type": "code",
   "execution_count": 41,
   "id": "44c31795-b077-4fda-8fc1-055963632342",
   "metadata": {},
   "outputs": [],
   "source": [
    "# Export cleaned data set to CSV\n",
    "df.to_csv(r'C:\\Users\\wstul\\d213\\prime_pantry_reviews-cleaned.csv')"
   ]
  },
  {
   "cell_type": "markdown",
   "id": "9a232d31-8adf-461e-872b-eda659fb24f2",
   "metadata": {},
   "source": [
    "## B5. Preparation Summary, Training, Validation and Test Sets\n",
    "\n",
    "Data preparation steps taken up to this point can be summarized as follows:\n",
    "\n",
    "1. Import Python packages and download data for nltk functions\n",
    "2. Import the Amazon JSON file as a data frame\n",
    "3. Remove irrelevant columns and rows containing null values\n",
    "4. Concatenate 'summary' and 'reviewText' columns and output to new 'review' column.  Drop origin columns\n",
    "5. Check reviews for non-ASCII characters, then remove punctuation, newline characters, and stopwords\n",
    "6. Perform lemmatization\n",
    "7. Drop rows containing blank review text\n",
    "8. Encode new 'sentiment' column with 0 and 1 values based on star rating ('overall' column)\n",
    "9. Tokenize 'review' column text and determine vocabulary size and max review length\n",
    "\n",
    "As a final step before performing analysis, I will split the relevant data from the data set into 3 subsets: a training set, a validation set, and a test set.  Typically when using only a training and test set an 80/20 split is appropriate.  With the addition of the validation set, the split will be 70/15/15.  The code sequence below shows how I performed the initial split and the second split, then confirmed the sizes of each matched set.  Once confirmed, I exported each set to CSV format."
   ]
  },
  {
   "cell_type": "code",
   "execution_count": 46,
   "id": "40559669-12fb-4514-ac76-4d46c93f9d62",
   "metadata": {},
   "outputs": [
    {
     "name": "stdout",
     "output_type": "stream",
     "text": [
      "Training slice has  (329749,) items for X and  (329749,) items for y.\n",
      "Validation slice has  (70660,) items for X and  (70660,) items for y.\n",
      "Test slice has  (70661,) items for X and  (70661,) items for y.\n"
     ]
    }
   ],
   "source": [
    "# Create initial 70/30 split of data\n",
    "# Further divide remaining data in half for validation and test sets\n",
    "# Train set = 70%, validation set = 15%, test set = 15%\n",
    "X = df['review']\n",
    "y = df['sentiment']\n",
    "X_train, X_remains, y_train, y_remains = train_test_split(X, y, train_size=0.70, random_state = 250)\n",
    "X_validation, X_test, y_validation, y_test = train_test_split(X_remains, y_remains, train_size=0.50, random_state = 250)\n",
    "\n",
    "# Print set shapes to verify matching\n",
    "print(\"Training slice has \", X_train.shape, \"items for X and \", y_train.shape, \"items for y.\")\n",
    "print(\"Validation slice has \", X_validation.shape, \"items for X and \", y_validation.shape, \"items for y.\")\n",
    "print(\"Test slice has \", X_test.shape, \"items for X and \", y_test.shape, \"items for y.\")"
   ]
  },
  {
   "cell_type": "code",
   "execution_count": 47,
   "id": "9be280b0-f16d-4fba-90c9-2c5184d0b122",
   "metadata": {},
   "outputs": [],
   "source": [
    "# Convert train, validation and test sets to data frames\n",
    "train_df = pd.DataFrame([X_train, y_train]).T\n",
    "validation_df = pd.DataFrame([X_validation, y_validation]).T\n",
    "test_df = pd.DataFrame([X_test, y_test]).T\n",
    "\n",
    "# Export train, validation and test data frames to CSV\n",
    "train_df.to_csv(r'C:\\Users\\wstul\\d213\\train.csv')\n",
    "validation_df.to_csv(r'C:\\Users\\wstul\\d213\\validation.csv')\n",
    "test_df.to_csv(r'C:\\Users\\wstul\\d213\\test.csv')"
   ]
  },
  {
   "cell_type": "markdown",
   "id": "618a2d17-d6c6-4c93-aa06-923d81064e53",
   "metadata": {},
   "source": [
    "## B6. Copy of Prepared Data Sets\n",
    "\n",
    "A copy of each prepared data set is provided separately as a part of this task submission."
   ]
  },
  {
   "cell_type": "markdown",
   "id": "2cf33ab1-eec5-4f85-bfc0-0fdc4920851b",
   "metadata": {},
   "source": [
    "---\n",
    "\n",
    "# Part III:  Network Architecture\n",
    "\n",
    "## C1. Model Summary\n",
    "\n",
    "The code and output below show the tokenization process for the train, validation, and test sets, the model's construction (including parameters), and the results of Tensorflow's summary function."
   ]
  },
  {
   "cell_type": "code",
   "execution_count": 48,
   "id": "a1e2c13d-367c-4633-8fdb-63a1f9b2b52a",
   "metadata": {},
   "outputs": [],
   "source": [
    "tokenizer = Tokenizer()\n",
    "tokenizer.fit_on_texts(X_train)"
   ]
  },
  {
   "cell_type": "code",
   "execution_count": 49,
   "id": "17ba4a16-3836-4d44-b23d-9e3126ca8f4d",
   "metadata": {
    "tags": []
   },
   "outputs": [
    {
     "name": "stdout",
     "output_type": "stream",
     "text": [
      "[[1509, 1752, 771, 123, 328, 101, 4, 454, 5, 1524, 1509, 1752, 771, 123, 328, 101, 15, 771, 123, 36, 9, 47, 354, 328, 101, 741, 33741, 36]]\n"
     ]
    }
   ],
   "source": [
    "sequences = tokenizer.texts_to_sequences(X_train)\n",
    "sequence_sample = take(1, sequences)\n",
    "print(sequence_sample)"
   ]
  },
  {
   "cell_type": "code",
   "execution_count": 50,
   "id": "c4a22863-ffb5-4704-b95f-a99726553f81",
   "metadata": {},
   "outputs": [
    {
     "name": "stdout",
     "output_type": "stream",
     "text": [
      "[array([1509, 1752,  771, ...,    0,    0,    0])]\n"
     ]
    }
   ],
   "source": [
    "padded_sequences = pad_sequences(sequences, maxlen=word_count, padding='post')\n",
    "padded_sample = take(1, padded_sequences)\n",
    "print(padded_sample)"
   ]
  },
  {
   "cell_type": "code",
   "execution_count": 51,
   "id": "41ad7595-8b45-4b70-8af6-7527f3b062ac",
   "metadata": {},
   "outputs": [],
   "source": [
    "sequences_validation = tokenizer.texts_to_sequences(X_validation)\n",
    "padded_sequences_validation = pad_sequences(sequences_validation, maxlen=word_count, padding='post')\n",
    "sequences_test = tokenizer.texts_to_sequences(X_test)\n",
    "padded_sequences_test = pad_sequences(sequences_test, maxlen=word_count, padding='post')"
   ]
  },
  {
   "cell_type": "code",
   "execution_count": 52,
   "id": "79b256b2-5f29-4360-a68e-ca82efb0f977",
   "metadata": {},
   "outputs": [
    {
     "data": {
      "text/plain": [
       "18"
      ]
     },
     "execution_count": 52,
     "metadata": {},
     "output_type": "execute_result"
    }
   ],
   "source": [
    "max_sequence_embedding = int(round(np.sqrt(np.sqrt(vocabulary_size)), 0))\n",
    "max_sequence_embedding"
   ]
  },
  {
   "cell_type": "code",
   "execution_count": 53,
   "id": "d96a4fbf-17b9-4785-ad61-7f0828328f22",
   "metadata": {},
   "outputs": [],
   "source": [
    "embed_layer = Embedding(vocabulary_size, max_sequence_embedding, input_length=word_count)"
   ]
  },
  {
   "cell_type": "code",
   "execution_count": 54,
   "id": "fedd8b0d-ecc1-4544-b4ca-1eb308900359",
   "metadata": {},
   "outputs": [],
   "source": [
    "stopcheck = EarlyStopping(monitor='val_loss', mode='min', verbose=1, patience=2)"
   ]
  },
  {
   "cell_type": "code",
   "execution_count": 55,
   "id": "11c9f995-6d70-4999-bea8-4be70345bb00",
   "metadata": {},
   "outputs": [
    {
     "name": "stdout",
     "output_type": "stream",
     "text": [
      "Model: \"sequential\"\n",
      "_________________________________________________________________\n",
      " Layer (type)                Output Shape              Param #   \n",
      "=================================================================\n",
      " embedding (Embedding)       (None, 1112, 18)          1689246   \n",
      "                                                                 \n",
      " flatten (Flatten)           (None, 20016)             0         \n",
      "                                                                 \n",
      " dense (Dense)               (None, 100)               2001700   \n",
      "                                                                 \n",
      " dense_1 (Dense)             (None, 50)                5050      \n",
      "                                                                 \n",
      " dense_2 (Dense)             (None, 1)                 51        \n",
      "                                                                 \n",
      "=================================================================\n",
      "Total params: 3,696,047\n",
      "Trainable params: 3,696,047\n",
      "Non-trainable params: 0\n",
      "_________________________________________________________________\n",
      "None\n"
     ]
    }
   ],
   "source": [
    "# define the model\n",
    "model = Sequential()\n",
    "model.add(embed_layer)\n",
    "model.add(Flatten())\n",
    "model.add(Dense(100, activation = \"relu\"))\n",
    "model.add(Dense(50, activation = \"relu\"))\n",
    "model.add(Dense(1, activation='sigmoid'))\n",
    "# compile the model\n",
    "model.compile(optimizer='adam', loss='binary_crossentropy', metrics=['accuracy'])\n",
    "# summarize the model\n",
    "print(model.summary())"
   ]
  },
  {
   "cell_type": "markdown",
   "id": "b2b8994e-c1c6-4848-a68c-a4db43ab99c8",
   "metadata": {},
   "source": [
    "## C2. Number of Layers, Types of Layers, and Parameters\n",
    "\n",
    "The model consists of five layers (layer type in parenthesis):\n",
    "\n",
    "1. Embedding layer (Embedding)\n",
    "2. Flatten layer (Flatten)\n",
    "3. First dense layer (Dense)\n",
    "4. Second dense layer (Dense)\n",
    "5. Final dense layer (Dense)\n",
    "\n",
    "The total number of parameters is 3,696,047, all of which are trainable."
   ]
  },
  {
   "cell_type": "markdown",
   "id": "b163c722-3e04-4e87-889e-704d3e5949ee",
   "metadata": {},
   "source": [
    "## C3. Choice of Hyperparameters\n",
    "\n",
    "* Activation Functions\n",
    "\n",
    "Activation functions used on the first and second dense layers were both \"ReLU\", or rectified linear unit.  ReLU was chosen because it is simple, easy to work with, and generally produces great results.  It is versatile and suitable for a variety of tasks (Goldberg, 2015).\n",
    "\n",
    "The final dense layer uses \"sigmoid\" as its activation function, which is appropriate when working with binary values.\n",
    "\n",
    "* Nodes Per Layer\n",
    "\n",
    "Node values for the embedding layer are determined based on the previously discovered values for vocabulary_size, max_sequence_embedding, and word_count (93847, 18, and 1112 respectively).\n",
    "\n",
    "When determining an appropriate number of nodes for hidden dense layers, my research indicated that professionals will commonly recommend \"experimentation\".  As this was the first run-through for my model, I chose node values I commonly see used as a starting point, 100 and 50.  There was no other rationale used to make this decision, as the author is new to this process and elected to follow popular advice and then evaluate the effectiveness once results are available.\n",
    "\n",
    "The final dense layer has a node value of 1, as the expected output will be a binary value (either 0 or 1). \n",
    "\n",
    "* Loss function\n",
    "\n",
    "\"Binary cross-entropy\" is the chosen loss function for the model, as this is appropriate for \"either-or\" classification tasks.  It works by computing the cross-entropy between the actual sentiment values and predicted sentiment values (Borate, 2021).\n",
    "\n",
    "* Optimizer\n",
    "\n",
    "\"Adam\" was the optimizer of choice for this exercise.  Adam differs from classical stochastic gradient descent optimizers in that it realizes the benefits from two other optimization algorithms, AdaGrad and RMSProp.  Adam is a popular optimizer because it produces good results quickly with low impact on performance (Brownlee, 2017).\n",
    "\n",
    "* Stopping Criteria\n",
    "\n",
    "For my stopping criteria I am having the CNN monitor the loss metric when evaluated against the validation set, denoted by the 'val_loss' output.  The early stop check will monitor val_loss and once it has observed 2 epochs where the val_loss value increases when compared to the previous epoch, the learning process will terminate to avoid overfitting.\n",
    "\n",
    "* Evaluation Metric\n",
    "\n",
    "I will use accuracy as my evaluation metric for model fitness, as the end goal of the exercise is a model which accurately predicts sentiment.  The confidence of these predictions should hopefully remain high as my stopping criteria is based on loss.\n"
   ]
  },
  {
   "cell_type": "markdown",
   "id": "a5dce181-d4d6-48ac-b3d5-f034ef4a7816",
   "metadata": {},
   "source": [
    "---\n",
    "\n",
    "# Part IV:  Model Evaluation\n",
    "\n",
    "The model training process and output are illustrated in the code sample and results shown below."
   ]
  },
  {
   "cell_type": "code",
   "execution_count": 56,
   "id": "fcbe88ec-bb92-4618-ada1-3d3b9ebedff8",
   "metadata": {},
   "outputs": [
    {
     "name": "stdout",
     "output_type": "stream",
     "text": [
      "Epoch 1/20\n",
      "10305/10305 [==============================] - 418s 40ms/step - loss: 0.1659 - accuracy: 0.9334 - val_loss: 0.1505 - val_accuracy: 0.9406\n",
      "Epoch 2/20\n",
      "10305/10305 [==============================] - 382s 37ms/step - loss: 0.1261 - accuracy: 0.9504 - val_loss: 0.1508 - val_accuracy: 0.9418\n",
      "Epoch 3/20\n",
      "10305/10305 [==============================] - 385s 37ms/step - loss: 0.0953 - accuracy: 0.9632 - val_loss: 0.1700 - val_accuracy: 0.9390\n",
      "Epoch 3: early stopping\n"
     ]
    }
   ],
   "source": [
    "train_results = model.fit(padded_sequences, y_train, \n",
    "                          validation_data = (padded_sequences_validation, y_validation), \n",
    "                          epochs = 20, callbacks = stopcheck)"
   ]
  },
  {
   "cell_type": "markdown",
   "id": "284a8c0a-ebe7-4146-8cc9-5872e43ab17e",
   "metadata": {},
   "source": [
    "## D1. Impact of Stopping Criteria\n",
    "\n",
    "My stopping criteria caused the training process to halt after epoch 3, as it detected an increase in the val_loss value for 2 successive epochs.  All training epochs can be viewed in the output from the code above.\n",
    "\n",
    "## D2. Visualizations\n",
    "\n",
    "Line graphs of the loss and accuracy metrics during the training process are pictures below."
   ]
  },
  {
   "cell_type": "code",
   "execution_count": 58,
   "id": "3af3d047-a339-45f0-b670-1b60de282028",
   "metadata": {},
   "outputs": [
    {
     "data": {
      "image/png": "[encoded data removed]",
      "text/plain": [
       "<Figure size 640x480 with 1 Axes>"
      ]
     },
     "metadata": {},
     "output_type": "display_data"
    }
   ],
   "source": [
    "plt.plot(train_results.history['accuracy'], label= \"Train Set Accuracy\")\n",
    "plt.plot(train_results.history['val_accuracy'], label= \"Validation Set Accuracy\")\n",
    "plt.xlabel(\"Epoch\")\n",
    "plt.ylabel(\"Accuracy\")\n",
    "plt.legend()\n",
    "plt.title(\"Accuracy Metrics\")\n",
    "plt.show()"
   ]
  },
  {
   "cell_type": "code",
   "execution_count": 59,
   "id": "00451c70-7239-4a79-9205-79ed7b388e4e",
   "metadata": {},
   "outputs": [
    {
     "data": {
      "image/png": "[encoded data removed]",
      "text/plain": [
       "<Figure size 640x480 with 1 Axes>"
      ]
     },
     "metadata": {},
     "output_type": "display_data"
    }
   ],
   "source": [
    "plt.plot(train_results.history['loss'], label= \"Train Set Loss\")\n",
    "plt.plot(train_results.history['val_loss'], label= \"Validation Set Loss\")\n",
    "plt.xlabel(\"Epoch\")\n",
    "plt.ylabel(\"Loss\")\n",
    "plt.legend()\n",
    "plt.title(\"Loss Metrics\")\n",
    "plt.show()"
   ]
  },
  {
   "cell_type": "markdown",
   "id": "e9c7a566-a5d5-4b57-aa69-f37d454ffec8",
   "metadata": {},
   "source": [
    "## D3. Model Fitness\n",
    "\n",
    "I can now evaluate the fitness of the model by applying it to the test set.  My stopping criteria was in place to prevent overfitting during the training process, so hopefully that will yield benefit in the form of good fitness results that are in line with the measures observed after the training process."
   ]
  },
  {
   "cell_type": "code",
   "execution_count": 57,
   "id": "c802b2de-a961-460a-a4c0-8aea797463be",
   "metadata": {},
   "outputs": [
    {
     "name": "stdout",
     "output_type": "stream",
     "text": [
      "2209/2209 [==============================] - 7s 3ms/step - loss: 0.1687 - accuracy: 0.9396\n"
     ]
    },
    {
     "data": {
      "text/plain": [
       "[0.16868740320205688, 0.9396131038665771]"
      ]
     },
     "execution_count": 57,
     "metadata": {},
     "output_type": "execute_result"
    }
   ],
   "source": [
    "model.evaluate(padded_sequences_test, y_test)"
   ]
  },
  {
   "cell_type": "markdown",
   "id": "f1160d3c-9c15-4d9c-bc50-5cd5757dc4eb",
   "metadata": {},
   "source": [
    "## D4. Predictive Accuracy\n",
    "\n",
    "The model was able to predict the sentiment of a review using natural language processing with an accuracy of ~.94, which was a pleasant surprise.  The training process appears to have minimized loss, reflected by the low ~.17 loss value when making predictions based on the test set.  This indicates the model is highly confident in the accuracy of its predictions."
   ]
  },
  {
   "cell_type": "markdown",
   "id": "0318b51b-0b69-472d-a69b-6a5f909835ef",
   "metadata": {},
   "source": [
    "---\n",
    "\n",
    "# Part V: Summary and Recommendations\n",
    "\n",
    "## E. Saving the Trained Network\n",
    "\n",
    "The code used to save my trained convolutional neural network is shown below."
   ]
  },
  {
   "cell_type": "code",
   "execution_count": 60,
   "id": "1dcba511-915d-4915-9a04-a9f89775dd0a",
   "metadata": {},
   "outputs": [],
   "source": [
    "model.save('my_nlp_model.h5')"
   ]
  },
  {
   "cell_type": "markdown",
   "id": "3a265a0c-0863-4643-ac77-2645562ea80f",
   "metadata": {},
   "source": [
    "## F. Neural Network Functionality and Impact of Network Architecture\n",
    "\n",
    "My model had 329749 Amazon reviews upon which to train its predictive ability.  The training was validated against a further 70660 reviews and then tested against 70661 reviews.  The model was trained using the Amazon customer reviews and the sentiment of the review, which was encoded as 0 for negative and 1 for positive, based on the review's star rating.  Based on the encouraging results of the first iteration of the model, it should be able to accurately predict the sentiment of a new review ~94% of the time, which could increase upon further tuning.\n",
    "\n",
    "I believe the detailed cleaning of data coupled with the use of proper node values for the embedding layer enhanced the model's ability to generate accurate predictions, and the use of stopping criteria helped avoid overfitting, further boosting the model's performance."
   ]
  },
  {
   "cell_type": "markdown",
   "id": "5efbc540-cf31-4bbc-84ba-060a069a291b",
   "metadata": {},
   "source": [
    "## G. Recommended Course of Action\n",
    "\n",
    "I believe the initial cleaned data set is in great shape and suited for consumption by a CNN for NLP purposes, though it may also benefit from further preparation measures taken, such as stemming.  While the model performed quite admirably in its initial iteration, I believe it could achieve greater accuracy with further tuning.  Some suggestions might be additional adjustments to node values on the hidden dense layers, experimenting with other activation functions, additional hidden layers, and utilizing different layer types such as pooling.  Once enhanced and perfected, a model of this type would be most beneficial for engaging with customers, one example being product suggestion."
   ]
  },
  {
   "cell_type": "markdown",
   "id": "c1348e22-ef1b-4fb2-bb62-9ce7488f5b26",
   "metadata": {},
   "source": [
    "# Web Resources\n",
    "\n",
    "https://www.youtube.com/playlist?list=PL1w8k37X_6L-fBgXCiCsn6ugDsr1Nmfqk\n",
    "\n",
    "https://java2blog.com/remove-newline-from-string-python/\n",
    "\n",
    "https://stackoverflow.com/questions/19377969/combine-two-columns-of-text-in-pandas-dataframe\n",
    "\n",
    "https://www.statology.org/valueerror-trailing-data/\n",
    "\n",
    "https://stackoverflow.com/questions/7971618/return-first-n-keyvalue-pairs-from-dict\n",
    "\n",
    "https://machinelearningknowledge.ai/keras-tokenizer-tutorial-with-examples-for-fit_on_texts-texts_to_sequences-texts_to_matrix-sequences_to_matrix/\n",
    "\n",
    "https://machinelearningmastery.com/use-word-embedding-layers-deep-learning-keras/\n",
    "\n",
    "https://stackoverflow.com/questions/27159189/find-empty-or-nan-entry-in-pandas-dataframe\n",
    "\n",
    "https://machinelearningmastery.com/how-to-stop-training-deep-neural-networks-at-the-right-time-using-early-stopping/\n",
    "\n",
    "https://pandas.pydata.org/docs/reference/api/pandas.DataFrame.T.html\n",
    "\n",
    "https://www.w3schools.com/python/ref_string_isascii.asp\n",
    "\n",
    "https://www.tensorflow.org/tutorials/keras/save_and_load"
   ]
  },
  {
   "cell_type": "markdown",
   "id": "b1dcedb0-6308-47ba-89de-aad000cc2483",
   "metadata": {},
   "source": [
    "# References\n",
    "\n",
    "Ni, J., Li, J., McAuley, J.  (2019).  *Justifying Recommendations using Distantly-Labeled Reviews and Fine-Grained Aspects.*  University of California San Diego.  https://cseweb.ucsd.edu//~jmcauley/pdfs/emnlp19a.pdf\n",
    "\n",
    "Goldberg, Y.  (2015, October 6).  *A Primer on Neural Network Models for Natural Language Processing.*  arXiv.  https://arxiv.org/pdf/1510.00726.pdf\n",
    "\n",
    "Goldman, S.  (2022, July 18).  *Embeddings.*  Google Developers.  https://developers.google.com/machine-learning/crash-course/embeddings/video-lecture\n",
    "\n",
    "Chakravarthy, S.  (2020, June 19).  *Tokenization for Natural Language Processing.*  Towards Data Science.  https://towardsdatascience.com/tokenization-for-natural-language-processing-a179a891bad4\n",
    "\n",
    "Tensorflow.  (2022, January 10).  *Masking and padding with Keras.*  https://www.tensorflow.org/guide/keras/masking_and_padding\n",
    "\n",
    "Borate, P.  (2021, June 8).  *Guide For Loss Function in Tensorflow.*  Analytics Vidhya.  https://www.analyticsvidhya.com/blog/2021/05/guide-for-loss-function-in-tensorflow/\n",
    "\n",
    "Brownlee, J.  (2017, July 3).  *Gentle Introduction to the Adam Optimization Algorithm for Deep Learning.*  Machine Learning Mastery. https://machinelearningmastery.com/adam-optimization-algorithm-for-deep-learning/\n",
    "\n"
   ]
  }
 ],
 "metadata": {
  "kernelspec": {
   "display_name": "Python 3 (ipykernel)",
   "language": "python",
   "name": "python3"
  },
  "language_info": {
   "codemirror_mode": {
    "name": "ipython",
    "version": 3
   },
   "file_extension": ".py",
   "mimetype": "text/x-python",
   "name": "python",
   "nbconvert_exporter": "python",
   "pygments_lexer": "ipython3",
   "version": "3.8.16"
  }
 },
 "nbformat": 4,
 "nbformat_minor": 5
}
